{
  "nbformat": 4,
  "nbformat_minor": 0,
  "metadata": {
    "colab": {
      "provenance": [],
      "mount_file_id": "1yaj4Ix2_a8xg6ijxjjr1bmnGO_f4C8nI",
      "authorship_tag": "ABX9TyPLBpwyH/+clp3PZgygUbKY",
      "include_colab_link": true
    },
    "kernelspec": {
      "name": "python3",
      "display_name": "Python 3"
    },
    "language_info": {
      "name": "python"
    }
  },
  "cells": [
    {
      "cell_type": "markdown",
      "metadata": {
        "id": "view-in-github",
        "colab_type": "text"
      },
      "source": [
        "<a href=\"https://colab.research.google.com/github/bonaguidin/SpaceX-Falcon-9-Project/blob/main/7_SpaceX_Dashboard.ipynb\" target=\"_parent\"><img src=\"https://colab.research.google.com/assets/colab-badge.svg\" alt=\"Open In Colab\"/></a>"
      ]
    },
    {
      "cell_type": "code",
      "source": [
        "!pip install dash pandas plotly"
      ],
      "metadata": {
        "id": "KYglYj0PGpgf"
      },
      "execution_count": null,
      "outputs": []
    },
    {
      "cell_type": "code",
      "source": [
        "import dash_core_components as dcc\n",
        "import dash_html_components as html\n",
        "import pandas as pd\n",
        "import dash\n",
        "from dash import html, dcc\n",
        "from dash.dependencies import Input, Output\n",
        "import plotly.express as px"
      ],
      "metadata": {
        "id": "c7n7G_iEG0uA"
      },
      "execution_count": null,
      "outputs": []
    },
    {
      "cell_type": "code",
      "source": [
        "\n",
        "# Read the spacex data into pandas dataframe\n",
        "spacex_df = pd.read_csv('https://cf-courses-data.s3.us.cloud-object-storage.appdomain.cloud/IBM-DS0321EN-SkillsNetwork/datasets/spacex_launch_dash.csv')\n",
        "max_payload = spacex_df['Payload Mass (kg)'].max()\n",
        "min_payload = spacex_df['Payload Mass (kg)'].min()\n",
        "\n",
        "# Create a dash application\n",
        "app = dash.Dash(__name__)\n",
        "\n",
        "# Extract unique launch sites from df\n",
        "launch_sites = spacex_df['Launch Site'].unique()\n",
        "\n",
        "# Create an app layout\n",
        "app.layout = html.Div(children=[html.H1('SpaceX Launch Records Dashboard',\n",
        "                                      style={'textAlign': 'center', 'color': '#503D36',\n",
        "                                             'font-size': 40}),\n",
        "                                # TASK 1: Add a dropdown list to enable Launch Site selection\n",
        "                                dcc.Dropdown(id='site-dropdown',\n",
        "                                            options=[\n",
        "                                                {'label': 'All Sites', 'value': 'ALL'}\n",
        "                                            ] + [{'label': site, 'value': site} for site in launch_sites],\n",
        "                                            value='ALL',\n",
        "                                            placeholder='Select a Launch Site here',\n",
        "                                            searchable=True\n",
        "                                            ),\n",
        "                                html.Br(),\n",
        "\n",
        "                                html.Div(dcc.Graph(id='success-pie-chart')),\n",
        "                                html.Br(),\n",
        "\n",
        "                                html.P(\"Payload range (Kg):\"),\n",
        "                                dcc.RangeSlider(id='payload-slider',\n",
        "                                               min=0,\n",
        "                                               max=10000,\n",
        "                                               step=1000,\n",
        "                                               marks={i: str(i) for i in range(0, 10001, 1000)},\n",
        "                                               value=[min_payload, max_payload]\n",
        "                                               ),\n",
        "\n",
        "                                html.Div(dcc.Graph(id='success-payload-scatter-chart')),\n",
        "                                ])\n",
        "\n",
        "@app.callback(Output(component_id='success-pie-chart', component_property='figure'),\n",
        "              Input(component_id='site-dropdown', component_property='value'))\n",
        "def get_pie_chart(entered_site):\n",
        "    if entered_site == 'ALL':\n",
        "        # For all sites, count successes for each site\n",
        "        success_counts = spacex_df.groupby('Launch Site')['class'].sum().reset_index()\n",
        "        total_counts = spacex_df.groupby('Launch Site').size().reset_index(name='total')\n",
        "        success_counts['failure'] = total_counts['total'] - success_counts['class']\n",
        "\n",
        "        fig = px.pie(success_counts,\n",
        "                    values='class',\n",
        "                    names='Launch Site',\n",
        "                    title='Total Success Launches By Site')\n",
        "        return fig\n",
        "    else:\n",
        "        # For a specific site, show success vs. failure\n",
        "        filtered_df = spacex_df[spacex_df['Launch Site'] == entered_site]\n",
        "        success_failure_counts = filtered_df['class'].value_counts().reset_index()\n",
        "        success_failure_counts.columns = ['Outcome', 'Count']\n",
        "        # Map 1 to Success and 0 to Failure for better readability\n",
        "        success_failure_counts['Outcome'] = success_failure_counts['Outcome'].map({1: 'Success', 0: 'Failure'})\n",
        "\n",
        "        fig = px.pie(success_failure_counts,\n",
        "                    values='Count',\n",
        "                    names='Outcome',\n",
        "                    title=f'Success vs Failure Launches for {entered_site}')\n",
        "        return fig\n",
        "\n",
        "@app.callback(\n",
        "    Output(component_id='success-payload-scatter-chart', component_property='figure'),\n",
        "    [Input(component_id='site-dropdown', component_property='value'),\n",
        "     Input(component_id='payload-slider', component_property='value')]\n",
        ")\n",
        "def update_scatter_chart(entered_site, payload_range):\n",
        "    low, high = payload_range\n",
        "    filtered_df = spacex_df[spacex_df['Payload Mass (kg)'].between(low, high)]\n",
        "\n",
        "    if entered_site == 'ALL':\n",
        "        fig = px.scatter(filtered_df,\n",
        "                         x='Payload Mass (kg)',\n",
        "                         y='class',\n",
        "                         color='Booster Version',\n",
        "                         title='Correlation between Payload Mass and Success for all sites')\n",
        "    else:\n",
        "        filtered_site_df = filtered_df[filtered_df['Launch Site'] == entered_site]\n",
        "        fig = px.scatter(filtered_site_df,\n",
        "                        x='Payload Mass (kg)',\n",
        "                        y='class',\n",
        "                        color='Booster Version',\n",
        "                        title=f'Correlation between Payload and Success for site {entered_site}')\n",
        "    return fig\n",
        "\n",
        "# Run the app\n",
        "if __name__ == '__main__':\n",
        "    app.run(jupyter_mode='external')\n",
        "\n",
        "    ####################################################\n",
        "    ## OPEN BELOW LINK IN A NEW TAB TO VIEW DASHBOARD ##\n",
        "    ####################################################"
      ],
      "metadata": {
        "id": "gUWkU7bDG23Y"
      },
      "execution_count": null,
      "outputs": []
    },
    {
      "cell_type": "code",
      "source": [],
      "metadata": {
        "id": "tomWo0lGHfT3"
      },
      "execution_count": null,
      "outputs": []
    }
  ]
}
